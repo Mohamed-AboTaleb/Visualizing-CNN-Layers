{
 "cells": [
  {
   "cell_type": "code",
   "execution_count": 1,
   "metadata": {},
   "outputs": [],
   "source": [
    "import torch\n",
    "from torch import nn\n",
    "import torch.nn.functional as F\n",
    "from torchvision import datasets, transforms"
   ]
  },
  {
   "cell_type": "code",
   "execution_count": 2,
   "metadata": {},
   "outputs": [],
   "source": [
    "import matplotlib.pyplot as plt"
   ]
  },
  {
   "cell_type": "markdown",
   "metadata": {},
   "source": [
    "## Importing the MNIST dataset"
   ]
  },
  {
   "cell_type": "markdown",
   "metadata": {},
   "source": [
    "based on the following pytorch excercise by Udacity: (Lesson 5.9 of [this](https://www.udacity.com/course/deep-learning-pytorch--ud188) course)\n",
    "\n",
    "    Part 3 - Training Neural Networks (Exercises)\n"
   ]
  },
  {
   "cell_type": "code",
   "execution_count": 3,
   "metadata": {},
   "outputs": [],
   "source": [
    "# define a transform \n",
    "# for this we need to convert the input to torch-tensors using transforms.ToTensor()\n",
    "# we will be working with MNIST dataset which are gray scale images\n",
    "# V.Imp: Since the MNIST images have a  single channel, therefore one might be tempted to \n",
    "# call transforms.Normalize((0.5), (0.5)) instead of transforms.Normalize((0.5,), (0.5,))\n",
    "# The difference is the presence of a comma after 0.5 in the second call\n",
    "# then this will throw an error \"too many indices for tensor of dimension 0\"\n",
    "# this is because transforms.Normalize wants a tuple to be passed as its mean and standard\n",
    "# however torch interprets (0.5) as a number and NOT a tuple. So we need to pass (0.5, )\n",
    "# This is well explained by Berriel in the following stackoverflow post\n",
    "# https://stackoverflow.com/questions/56745486/pytorch-dataloader-indexerror-too-many-indices-for-tensor-of-dimension-0\n",
    "\n",
    "transform = transforms.Compose([transforms.ToTensor(), \n",
    "                                transforms.Normalize((0.5, ), (0.5, ))]) \n",
    "\n",
    "# import the MNIST dataset\n",
    "train = datasets.MNIST('~/.pytorch/MNIST_data/', download = True, train = True, transform = transform)\n",
    "# Dataloader\n",
    "trainloader = torch.utils.data.DataLoader(train, batch_size = 32, shuffle = True)"
   ]
  },
  {
   "cell_type": "code",
   "execution_count": 7,
   "metadata": {},
   "outputs": [
    {
     "name": "stdout",
     "output_type": "stream",
     "text": [
      "Each image has shape: (28, 28)\n"
     ]
    },
    {
     "data": {
      "image/png": "[encoded data removed]",
      "text/plain": [
       "<Figure size 432x288 with 1 Axes>"
      ]
     },
     "metadata": {
      "needs_background": "light"
     },
     "output_type": "display_data"
    }
   ],
   "source": [
    "# checkout a random image in the training set\n",
    "image, label = next(iter(trainloader))\n",
    "img=torch.squeeze(image[0],0).numpy()\n",
    "print('Each image has shape: {}'.format(img.shape))\n",
    "plt.figure()\n",
    "plt.imshow(img)\n",
    "plt.title(\"The number is {}\".format(label[0]))\n",
    "plt.show()"
   ]
  },
  {
   "cell_type": "markdown",
   "metadata": {},
   "source": [
    "## Defining a simple CNN "
   ]
  },
  {
   "cell_type": "code",
   "execution_count": 14,
   "metadata": {},
   "outputs": [],
   "source": [
    "# model architechture:\n",
    "# 1st Conv. layer with 32 filters; Each having a kernel of size 3, stride = 1, and default padding and dilation\n",
    "# this will reduce the shape of the input tensor from (1,28,28) to (32,26,26)\n",
    "# then apply Relu activation\n",
    "# 2nd Conv. layer with 16 filters, each having a kernel size 5, stride = 1, default padding and dilation\n",
    "# the output of this layer will have shape (16, 22, 22)\n",
    "# again apply ReLU to this output\n",
    "# Now flatten the output to pass to a linear NN for classification\n",
    "# The output of this layer will be a 1d array of 16*22*22 = 7744 elements\n",
    "# We now add a linear layer of 32 nuerons\n",
    "\n",
    "# the model has to be a class that inherits from nn.Module\n",
    "# note that we can define relu once and use it repeatedly. Also see the following discussion\n",
    "# https://discuss.pytorch.org/t/using-same-dropout-object-for-multiple-drop-out-layers/39027\n",
    "class my_CNN(nn.Module):\n",
    "    # class constructor (i.e. initializer)\n",
    "    def __init__(self):\n",
    "        # initialize the base class\n",
    "        super().__init__()\n",
    "        \n",
    "        self.l1 = nn.Conv2d(1, 32, 3 )\n",
    "        \n",
    "        self.relu = nn.ReLU()\n",
    "        \n",
    "        self.l2 = nn.Conv2d(32, 16, 5 )\n",
    "        \n",
    "        self.flatten = nn.Flatten()\n",
    "        \n",
    "        self.l3 = nn.Linear(7744, 32, bias = True)\n",
    "        \n",
    "        self.l4 = nn.Linear(32, 10, bias = True)\n",
    "        \n",
    "        self.softmax = nn.Softmax(dim=1)\n",
    "        \n",
    "    def forward(self, x):\n",
    "        out1 = self.l1(x)\n",
    "        act1 = self.relu(out1)\n",
    "        out2 = self.l2(act1)\n",
    "        act2 = self.relu(out2)\n",
    "        flat = self.flatten(act2)\n",
    "        out3 = self.l3(flat)\n",
    "        act3 = self.relu(out3)\n",
    "        out4 = self.l4(act3)\n",
    "        \n",
    "        output = self.softmax(out4)\n",
    "        \n",
    "        return output\n",
    "        \n",
    "        \n",
    "        \n",
    "        "
   ]
  },
  {
   "cell_type": "code",
   "execution_count": 15,
   "metadata": {},
   "outputs": [
    {
     "data": {
      "text/plain": [
       "my_CNN(\n",
       "  (l1): Conv2d(1, 32, kernel_size=(3, 3), stride=(1, 1))\n",
       "  (relu): ReLU()\n",
       "  (l2): Conv2d(32, 16, kernel_size=(5, 5), stride=(1, 1))\n",
       "  (flatten): Flatten()\n",
       "  (l3): Linear(in_features=7744, out_features=32, bias=True)\n",
       "  (l4): Linear(in_features=32, out_features=10, bias=True)\n",
       "  (softmax): Softmax(dim=1)\n",
       ")"
      ]
     },
     "execution_count": 15,
     "metadata": {},
     "output_type": "execute_result"
    }
   ],
   "source": [
    "model = my_CNN()\n",
    "model"
   ]
  },
  {
   "cell_type": "code",
   "execution_count": 16,
   "metadata": {},
   "outputs": [],
   "source": [
    "out = model(image)"
   ]
  },
  {
   "cell_type": "code",
   "execution_count": 17,
   "metadata": {},
   "outputs": [
    {
     "data": {
      "text/plain": [
       "torch.Size([32, 10])"
      ]
     },
     "execution_count": 17,
     "metadata": {},
     "output_type": "execute_result"
    }
   ],
   "source": [
    "out.shape"
   ]
  },
  {
   "cell_type": "code",
   "execution_count": null,
   "metadata": {},
   "outputs": [],
   "source": []
  }
 ],
 "metadata": {
  "kernelspec": {
   "display_name": "Python 3",
   "language": "python",
   "name": "python3"
  },
  "language_info": {
   "codemirror_mode": {
    "name": "ipython",
    "version": 3
   },
   "file_extension": ".py",
   "mimetype": "text/x-python",
   "name": "python",
   "nbconvert_exporter": "python",
   "pygments_lexer": "ipython3",
   "version": "3.7.1"
  }
 },
 "nbformat": 4,
 "nbformat_minor": 2
}
