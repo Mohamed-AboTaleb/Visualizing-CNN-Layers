{
 "cells": [
  {
   "cell_type": "code",
   "execution_count": 1,
   "metadata": {},
   "outputs": [],
   "source": [
    "import torch\n",
    "from torch import nn\n",
    "import torch.nn.functional as F\n",
    "from torchvision import datasets, transforms"
   ]
  },
  {
   "cell_type": "code",
   "execution_count": 2,
   "metadata": {},
   "outputs": [],
   "source": [
    "import matplotlib.pyplot as plt"
   ]
  },
  {
   "cell_type": "markdown",
   "metadata": {},
   "source": [
    "## Importing the MNIST dataset"
   ]
  },
  {
   "cell_type": "code",
   "execution_count": 3,
   "metadata": {},
   "outputs": [],
   "source": [
    "# define a transform \n",
    "# for this we need to convert the input to torch-tensors using transforms.ToTensor()\n",
    "# we will be working with MNIST dataset which are gray scale images\n",
    "# V.Imp: Since the MNIST images have a  single channel, therefore one might be tempted to \n",
    "# call transforms.Normalize((0.5), (0.5)) instead of transforms.Normalize((0.5,), (0.5,))\n",
    "# The difference is the presence of a comma after 0.5 in the second call\n",
    "# then this will throw an error \"too many indices for tensor of dimension 0\"\n",
    "# this is because transforms.Normalize wants a tuple to be passed as its mean and standard\n",
    "# however torch interprets (0.5) as a number and NOT a tuple. So we need to pass (0.5, )\n",
    "# This is well explained by Berriel in the following stackoverflow post\n",
    "# https://stackoverflow.com/questions/56745486/pytorch-dataloader-indexerror-too-many-indices-for-tensor-of-dimension-0\n",
    "\n",
    "transform = transforms.Compose([transforms.ToTensor(), \n",
    "                                transforms.Normalize((0.5, ), (0.5, ))]) \n",
    "\n",
    "# import the MNIST dataset\n",
    "train = datasets.MNIST('~/.pytorch/MNIST_data/', download = True, train = True, transform = transform)\n",
    "# Dataloader\n",
    "trainloader = torch.utils.data.DataLoader(train, batch_size = 32, shuffle = True)"
   ]
  },
  {
   "cell_type": "code",
   "execution_count": 5,
   "metadata": {},
   "outputs": [
    {
     "data": {
      "image/png": "[encoded data removed]",
      "text/plain": [
       "<Figure size 432x288 with 1 Axes>"
      ]
     },
     "metadata": {
      "needs_background": "light"
     },
     "output_type": "display_data"
    }
   ],
   "source": [
    "# checkout a random image in the training set\n",
    "image, label = next(iter(trainloader))\n",
    "img=torch.squeeze(image[0],0).numpy()\n",
    "plt.figure()\n",
    "plt.imshow(img)\n",
    "plt.title(\"The number is {}\".format(label[0]))\n",
    "plt.show()"
   ]
  },
  {
   "cell_type": "code",
   "execution_count": null,
   "metadata": {},
   "outputs": [],
   "source": []
  }
 ],
 "metadata": {
  "kernelspec": {
   "display_name": "Python 3",
   "language": "python",
   "name": "python3"
  },
  "language_info": {
   "codemirror_mode": {
    "name": "ipython",
    "version": 3
   },
   "file_extension": ".py",
   "mimetype": "text/x-python",
   "name": "python",
   "nbconvert_exporter": "python",
   "pygments_lexer": "ipython3",
   "version": "3.7.1"
  }
 },
 "nbformat": 4,
 "nbformat_minor": 2
}
