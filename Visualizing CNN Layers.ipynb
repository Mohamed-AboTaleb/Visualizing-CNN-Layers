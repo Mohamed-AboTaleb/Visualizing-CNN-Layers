{
 "cells": [
  {
   "cell_type": "code",
   "execution_count": 1,
   "metadata": {},
   "outputs": [],
   "source": [
    "import torch\n",
    "from torch import nn\n",
    "import torch.nn.functional as F\n",
    "from torchvision import datasets, transforms"
   ]
  },
  {
   "cell_type": "code",
   "execution_count": 2,
   "metadata": {},
   "outputs": [],
   "source": [
    "import matplotlib.pyplot as plt\n",
    "import numpy as np"
   ]
  },
  {
   "cell_type": "markdown",
   "metadata": {},
   "source": [
    "## Importing the MNIST dataset"
   ]
  },
  {
   "cell_type": "markdown",
   "metadata": {},
   "source": [
    "based on the following pytorch excercise by Udacity: (Lesson 5.9 of [this](https://www.udacity.com/course/deep-learning-pytorch--ud188) course)\n",
    "\n",
    "    Part 3 - Training Neural Networks (Exercises)\n"
   ]
  },
  {
   "cell_type": "code",
   "execution_count": 3,
   "metadata": {},
   "outputs": [],
   "source": [
    "# define a transform \n",
    "# for this we need to convert the input to torch-tensors using transforms.ToTensor()\n",
    "# we will be working with MNIST dataset which are gray scale images\n",
    "# V.Imp: Since the MNIST images have a  single channel, therefore one might be tempted to \n",
    "# call transforms.Normalize((0.5), (0.5)) instead of transforms.Normalize((0.5,), (0.5,))\n",
    "# The difference is the presence of a comma after 0.5 in the second call\n",
    "# then this will throw an error \"too many indices for tensor of dimension 0\"\n",
    "# this is because transforms.Normalize wants a tuple to be passed as its mean and standard\n",
    "# however torch interprets (0.5) as a number and NOT a tuple. So we need to pass (0.5, )\n",
    "# This is well explained by Berriel in the following stackoverflow post\n",
    "# https://stackoverflow.com/questions/56745486/pytorch-dataloader-indexerror-too-many-indices-for-tensor-of-dimension-0\n",
    "\n",
    "transform = transforms.Compose([transforms.ToTensor(), \n",
    "                                transforms.Normalize((0.5, ), (0.5, ))]) \n",
    "\n",
    "# import the MNIST dataset\n",
    "train = datasets.MNIST('~/.pytorch/MNIST_data/', download = True, train = True, transform = transform)\n",
    "# Dataloader\n",
    "trainloader = torch.utils.data.DataLoader(train, batch_size = 128, shuffle = True)"
   ]
  },
  {
   "cell_type": "code",
   "execution_count": 4,
   "metadata": {},
   "outputs": [
    {
     "name": "stdout",
     "output_type": "stream",
     "text": [
      "Each image has shape: (28, 28)\n"
     ]
    },
    {
     "data": {
      "image/png": "[encoded data removed]",
      "text/plain": [
       "<Figure size 432x288 with 1 Axes>"
      ]
     },
     "metadata": {
      "needs_background": "light"
     },
     "output_type": "display_data"
    }
   ],
   "source": [
    "# checkout a random image in the training set\n",
    "image, label = next(iter(trainloader))\n",
    "img=torch.squeeze(image[0],0).numpy()\n",
    "print('Each image has shape: {}'.format(img.shape))\n",
    "plt.figure()\n",
    "plt.imshow(img)\n",
    "plt.title(\"The number is {}\".format(label[0]))\n",
    "plt.show()"
   ]
  },
  {
   "cell_type": "markdown",
   "metadata": {},
   "source": [
    "## Defining a simple CNN "
   ]
  },
  {
   "cell_type": "code",
   "execution_count": 5,
   "metadata": {},
   "outputs": [],
   "source": [
    "# model architechture:\n",
    "# 1st Conv. layer with 4 filters; Each having a kernel of size 3, stride = 1, and default padding and dilation\n",
    "# this will reduce the shape of the input tensor from (1,28,28) to (4,26,26)\n",
    "# then apply Relu activation\n",
    "# 2nd Conv. layer with 2 filters, each having a kernel size 5, stride = 1, default padding and dilation\n",
    "# the output of this layer will have shape (2, 22, 22)\n",
    "# again apply ReLU to this output\n",
    "# Now flatten the output to pass to a linear NN for classification\n",
    "# The output of this layer will be a 1d array of 2*22*22 = 968 elements\n",
    "# We now add a linear layer of 32 nuerons\n",
    "\n",
    "# the model has to be a class that inherits from nn.Module\n",
    "# note that we can define relu once and use it repeatedly. Also see the following discussion\n",
    "# https://discuss.pytorch.org/t/using-same-dropout-object-for-multiple-drop-out-layers/39027\n",
    "class my_CNN(nn.Module):\n",
    "    # class constructor (i.e. initializer)\n",
    "    def __init__(self):\n",
    "        # initialize the base class\n",
    "        super().__init__()\n",
    "        \n",
    "        self.l1 = nn.Conv2d(1, 4, 3 )\n",
    "        \n",
    "        self.relu = nn.ReLU()\n",
    "        \n",
    "        self.l2 = nn.Conv2d(4, 2, 5 )\n",
    "        \n",
    "        self.flatten = nn.Flatten()\n",
    "        \n",
    "        self.l3 = nn.Linear(968, 32, bias = True)\n",
    "        \n",
    "        self.l4 = nn.Linear(32, 10, bias = True)\n",
    "        \n",
    "        self.logsoftmax = nn.LogSoftmax(dim=1) # we need to apply LogSoftmax if the loss function is NLLLoss\n",
    "        \n",
    "    def forward(self, x):\n",
    "        out1 = self.l1(x)\n",
    "        act1 = self.relu(out1)\n",
    "        out2 = self.l2(act1)\n",
    "        act2 = self.relu(out2)\n",
    "        flat = self.flatten(act2)\n",
    "        out3 = self.l3(flat)\n",
    "        act3 = self.relu(out3)\n",
    "        out4 = self.l4(act3)\n",
    "        \n",
    "        output = self.logsoftmax(out4)\n",
    "        \n",
    "        return output\n",
    "        \n",
    "        \n",
    "        \n",
    "        "
   ]
  },
  {
   "cell_type": "code",
   "execution_count": 6,
   "metadata": {},
   "outputs": [
    {
     "data": {
      "text/plain": [
       "my_CNN(\n",
       "  (l1): Conv2d(1, 4, kernel_size=(3, 3), stride=(1, 1))\n",
       "  (relu): ReLU()\n",
       "  (l2): Conv2d(4, 2, kernel_size=(5, 5), stride=(1, 1))\n",
       "  (flatten): Flatten()\n",
       "  (l3): Linear(in_features=968, out_features=32, bias=True)\n",
       "  (l4): Linear(in_features=32, out_features=10, bias=True)\n",
       "  (logsoftmax): LogSoftmax()\n",
       ")"
      ]
     },
     "execution_count": 6,
     "metadata": {},
     "output_type": "execute_result"
    }
   ],
   "source": [
    "model = my_CNN()\n",
    "model"
   ]
  },
  {
   "cell_type": "code",
   "execution_count": 7,
   "metadata": {},
   "outputs": [],
   "source": [
    "out = model(image)"
   ]
  },
  {
   "cell_type": "code",
   "execution_count": 8,
   "metadata": {},
   "outputs": [
    {
     "data": {
      "text/plain": [
       "torch.Size([128, 10])"
      ]
     },
     "execution_count": 8,
     "metadata": {},
     "output_type": "execute_result"
    }
   ],
   "source": [
    "out.shape"
   ]
  },
  {
   "cell_type": "code",
   "execution_count": 9,
   "metadata": {},
   "outputs": [],
   "source": [
    "# defining loss and optimizer\n",
    "criterion = nn.NLLLoss()\n",
    "optimizer = torch.optim.Adam(model.parameters(), lr = 0.001)"
   ]
  },
  {
   "cell_type": "markdown",
   "metadata": {},
   "source": [
    "## Untrained Predictions"
   ]
  },
  {
   "cell_type": "code",
   "execution_count": 10,
   "metadata": {},
   "outputs": [
    {
     "name": "stdout",
     "output_type": "stream",
     "text": [
      "loss on untrained model is: 2.309962749481201\n"
     ]
    },
    {
     "data": {
      "image/png": "[encoded data removed]",
      "text/plain": [
       "<Figure size 432x288 with 2 Axes>"
      ]
     },
     "metadata": {
      "needs_background": "light"
     },
     "output_type": "display_data"
    }
   ],
   "source": [
    "images, labels = next(iter(trainloader))\n",
    "\n",
    "with torch.no_grad():\n",
    "    pred_untrained = model(images) # recall that these are obtained from LogSoftmax()\n",
    "    loss_untrained = criterion(pred_untrained, labels)\n",
    "    print('loss on untrained model is: {}'.format(loss_untrained))\n",
    "\n",
    "    \n",
    "# display the untrained predicitons for a random image\n",
    "randidx = np.random.randint(0, images.shape[0])\n",
    "img = images[randidx].squeeze(0).numpy()\n",
    "pred_prob = torch.exp(pred_untrained[randidx]) # pred_untrained is the log of the probability \n",
    "                                              # this is due to the last layer of the model being LogSoftmax\n",
    "                                            \n",
    "# See the following post for some discussion on making subplots\n",
    "# https://stackoverflow.com/questions/14770735/how-do-i-change-the-figure-size-with-subplots\n",
    "fig, (ax1, ax2) = plt.subplots(ncols = 2) \n",
    "ax1.imshow(img)\n",
    "ax1.set_title('label: {}'.format(labels[randidx]))\n",
    "ax2.barh(np.arange(10), pred_prob)\n",
    "ax2.set_title('predicted probabilities')\n",
    "plt.show()"
   ]
  },
  {
   "cell_type": "markdown",
   "metadata": {},
   "source": [
    "## Training the model"
   ]
  },
  {
   "cell_type": "code",
   "execution_count": 57,
   "metadata": {},
   "outputs": [
    {
     "name": "stdout",
     "output_type": "stream",
     "text": [
      "average loss per batch at the end of epoch: 0 is 0.4467473547500588\n",
      "average loss per batch at the end of epoch: 1 is 0.13985470968332372\n",
      "average loss per batch at the end of epoch: 2 is 0.09860857302096607\n",
      "average loss per batch at the end of epoch: 3 is 0.08300510189259674\n",
      "average loss per batch at the end of epoch: 4 is 0.0716287033763458\n"
     ]
    }
   ],
   "source": [
    "# training\n",
    "epochs = 5\n",
    "losses = []\n",
    "for epoch in range(epochs):\n",
    "    running_loss = 0\n",
    "    \n",
    "    for images, labels in trainloader:\n",
    "        optimizer.zero_grad()\n",
    "        predprob = model(images)\n",
    "        loss = criterion(predprob, labels)\n",
    "        loss.backward()\n",
    "        optimizer.step()\n",
    "        running_loss += loss.item() \n",
    "    \n",
    "    losses.append(running_loss/len(trainloader)) # this is the average loss per batch\n",
    "    print('average loss per batch at the end of epoch: {} is {}'.format(epoch, losses[-1]))              \n",
    "    "
   ]
  },
  {
   "cell_type": "code",
   "execution_count": 58,
   "metadata": {},
   "outputs": [
    {
     "name": "stdout",
     "output_type": "stream",
     "text": [
      "model prediction: 6\n",
      "image label: 6\n"
     ]
    },
    {
     "data": {
      "image/png": "[encoded data removed]",
      "text/plain": [
       "<Figure size 432x288 with 1 Axes>"
      ]
     },
     "metadata": {
      "needs_background": "light"
     },
     "output_type": "display_data"
    }
   ],
   "source": [
    "# verify model predictions\n",
    "images, labels = next(iter(trainloader))\n",
    "with torch.no_grad():\n",
    "    preds = model(images)\n",
    "\n",
    "    img = torch.squeeze(images[0]).numpy()\n",
    "    prd = torch.argmax(preds[0]).item()\n",
    "    lbl = labels[0].item()\n",
    "    print('model prediction: {}'.format(prd))\n",
    "    print('image label: {}'.format(lbl))\n",
    "    plt.figure()\n",
    "    plt.imshow(img)\n",
    "    plt.show()"
   ]
  },
  {
   "cell_type": "markdown",
   "metadata": {},
   "source": [
    "# Forward Hook to visualize the layer outputs"
   ]
  },
  {
   "cell_type": "code",
   "execution_count": 59,
   "metadata": {},
   "outputs": [
    {
     "data": {
      "text/plain": [
       "<torch.utils.hooks.RemovableHandle at 0x244e8754c88>"
      ]
     },
     "execution_count": 59,
     "metadata": {},
     "output_type": "execute_result"
    }
   ],
   "source": [
    "# visualizing CNN features\n",
    "# see https://discuss.pytorch.org/t/visualize-feature-map/29597/2\n",
    "# and https://blog.paperspace.com/pytorch-hooks-gradient-clipping-debugging/\n",
    "activation = {}\n",
    "def get_activation(name):\n",
    "    def hook(m, i , o):\n",
    "        \n",
    "        # m is the module/layer\n",
    "        # i is the input to the layer\n",
    "        # o is the output of the layer\n",
    "        activation[name] = o.detach()\n",
    "    \n",
    "    return hook\n",
    "\n",
    "\n",
    "model.l1.register_forward_hook(get_activation('l1'))\n",
    "model.l2.register_forward_hook(get_activation('l2'))"
   ]
  },
  {
   "cell_type": "code",
   "execution_count": 60,
   "metadata": {},
   "outputs": [
    {
     "name": "stdout",
     "output_type": "stream",
     "text": [
      "torch.Size([128, 1, 28, 28])\n"
     ]
    }
   ],
   "source": [
    "img, label = next(iter(trainloader))\n",
    "\n",
    "# uncomment the following lines if you want to pass only a single image through model instead of an entire batch\n",
    "# img = train[0]\n",
    "#img.unsqueeze_(0) # input to the model is a 4d tensor with the zeroth axis being the batch index\n",
    "                  # we therefore need to unsqueeze to reshape our image into a 4d tensor\n",
    "print(img.shape)\n",
    "output = model(img)"
   ]
  },
  {
   "cell_type": "markdown",
   "metadata": {},
   "source": [
    "### output of layer 1"
   ]
  },
  {
   "cell_type": "code",
   "execution_count": 61,
   "metadata": {},
   "outputs": [
    {
     "data": {
      "text/plain": [
       "torch.Size([128, 4, 26, 26])"
      ]
     },
     "execution_count": 61,
     "metadata": {},
     "output_type": "execute_result"
    }
   ],
   "source": [
    "activation['l1'].shape #This seems to have the shape: batch_size, num_neurons, output_height, output_width"
   ]
  },
  {
   "cell_type": "code",
   "execution_count": 62,
   "metadata": {},
   "outputs": [
    {
     "data": {
      "image/png": "[encoded data removed]",
      "text/plain": [
       "<Figure size 720x720 with 5 Axes>"
      ]
     },
     "metadata": {
      "needs_background": "light"
     },
     "output_type": "display_data"
    }
   ],
   "source": [
    "num_neurons1 = activation['l1'].shape[1]\n",
    "\n",
    "fig, ax = plt.subplots(figsize=(10,10), ncols = num_neurons1+1 )\n",
    "ax[0].imshow(img[0,0])\n",
    "ax[0].set_title('input image')\n",
    "for itr in range(1,num_neurons1+1):\n",
    "    ax[itr].imshow(activation['l1'][0,itr-1].numpy())\n",
    "    ax[itr].set_title('l1_node:{}'.format(itr-1))\n",
    "plt.show()    \n",
    "    \n"
   ]
  },
  {
   "cell_type": "markdown",
   "metadata": {},
   "source": [
    "### output of layer 2"
   ]
  },
  {
   "cell_type": "code",
   "execution_count": 63,
   "metadata": {},
   "outputs": [
    {
     "data": {
      "text/plain": [
       "torch.Size([128, 2, 22, 22])"
      ]
     },
     "execution_count": 63,
     "metadata": {},
     "output_type": "execute_result"
    }
   ],
   "source": [
    "activation['l2'].shape"
   ]
  },
  {
   "cell_type": "code",
   "execution_count": 64,
   "metadata": {},
   "outputs": [
    {
     "data": {
      "image/png": "[encoded data removed]",
      "text/plain": [
       "<Figure size 432x288 with 3 Axes>"
      ]
     },
     "metadata": {
      "needs_background": "light"
     },
     "output_type": "display_data"
    }
   ],
   "source": [
    "num_neurons2 = activation['l2'].shape[1]\n",
    "\n",
    "fig, axes = plt.subplots(ncols = num_neurons2+1)\n",
    "axes[0].imshow(img[0,0])\n",
    "axes[0].set_title('input image')\n",
    "for itr in range(1, num_neurons2+1):\n",
    "    axes[itr].imshow(activation['l2'][0,itr-1].numpy())\n",
    "    axes[itr].set_title('l2_node: {}'.format(itr-1))\n",
    "plt.show()    "
   ]
  },
  {
   "cell_type": "markdown",
   "metadata": {},
   "source": [
    "## Alternate: Getting layer outputs without using hooks"
   ]
  },
  {
   "cell_type": "markdown",
   "metadata": {},
   "source": [
    "We can also access the individual layers of a model by using model._modules "
   ]
  },
  {
   "cell_type": "code",
   "execution_count": 65,
   "metadata": {},
   "outputs": [
    {
     "name": "stdout",
     "output_type": "stream",
     "text": [
      "length of layers_list: 7\n"
     ]
    }
   ],
   "source": [
    "layers_list = list(model._modules.items())\n",
    "print('length of layers_list: {}'.format(len(layers_list)))"
   ]
  },
  {
   "cell_type": "code",
   "execution_count": 66,
   "metadata": {},
   "outputs": [
    {
     "data": {
      "text/plain": [
       "[('l1', Conv2d(1, 4, kernel_size=(3, 3), stride=(1, 1))),\n",
       " ('relu', ReLU()),\n",
       " ('l2', Conv2d(4, 2, kernel_size=(5, 5), stride=(1, 1))),\n",
       " ('flatten', Flatten()),\n",
       " ('l3', Linear(in_features=968, out_features=32, bias=True)),\n",
       " ('l4', Linear(in_features=32, out_features=10, bias=True)),\n",
       " ('logsoftmax', LogSoftmax())]"
      ]
     },
     "execution_count": 66,
     "metadata": {},
     "output_type": "execute_result"
    }
   ],
   "source": [
    "layers_list"
   ]
  },
  {
   "cell_type": "markdown",
   "metadata": {},
   "source": [
    "### output of layer 1"
   ]
  },
  {
   "cell_type": "code",
   "execution_count": 67,
   "metadata": {},
   "outputs": [
    {
     "data": {
      "text/plain": [
       "Conv2d(1, 4, kernel_size=(3, 3), stride=(1, 1))"
      ]
     },
     "execution_count": 67,
     "metadata": {},
     "output_type": "execute_result"
    }
   ],
   "source": [
    "conv1 = layers_list[0][1]\n",
    "conv1"
   ]
  },
  {
   "cell_type": "code",
   "execution_count": 68,
   "metadata": {},
   "outputs": [],
   "source": [
    "conv1_out = conv1(img).detach().clone()"
   ]
  },
  {
   "cell_type": "code",
   "execution_count": 69,
   "metadata": {},
   "outputs": [
    {
     "data": {
      "text/plain": [
       "torch.Size([128, 4, 26, 26])"
      ]
     },
     "execution_count": 69,
     "metadata": {},
     "output_type": "execute_result"
    }
   ],
   "source": [
    "conv1_out.shape"
   ]
  },
  {
   "cell_type": "code",
   "execution_count": 70,
   "metadata": {
    "scrolled": true
   },
   "outputs": [
    {
     "data": {
      "image/png": "[encoded data removed]",
      "text/plain": [
       "<Figure size 720x720 with 5 Axes>"
      ]
     },
     "metadata": {
      "needs_background": "light"
     },
     "output_type": "display_data"
    }
   ],
   "source": [
    "num_neurons1 = conv1_out.shape[1]\n",
    "\n",
    "fig, ax = plt.subplots(figsize= (10,10), ncols = num_neurons1+1 )\n",
    "ax[0].imshow(img[0,0])\n",
    "ax[0].set_title('input image')\n",
    "for itr in range(1,num_neurons1+1):\n",
    "    ax[itr].imshow(conv1_out[0,itr-1].numpy())\n",
    "    ax[itr].set_title('l1_node:{}'.format(itr-1))\n",
    "plt.show()   "
   ]
  },
  {
   "cell_type": "markdown",
   "metadata": {},
   "source": [
    "The output above looks exactly the same as that we got for layer1 using hooks"
   ]
  },
  {
   "cell_type": "markdown",
   "metadata": {},
   "source": [
    "### output of layer 2"
   ]
  },
  {
   "cell_type": "code",
   "execution_count": 71,
   "metadata": {},
   "outputs": [
    {
     "data": {
      "text/plain": [
       "Conv2d(4, 2, kernel_size=(5, 5), stride=(1, 1))"
      ]
     },
     "execution_count": 71,
     "metadata": {},
     "output_type": "execute_result"
    }
   ],
   "source": [
    "conv2 = layers_list[2][1]\n",
    "conv2"
   ]
  },
  {
   "cell_type": "code",
   "execution_count": 72,
   "metadata": {},
   "outputs": [],
   "source": [
    "conv2_out = conv2(F.relu(conv1_out)).detach().clone() # input of l2 is obtained from applying relu to the output of l1"
   ]
  },
  {
   "cell_type": "code",
   "execution_count": 73,
   "metadata": {},
   "outputs": [
    {
     "data": {
      "image/png": "[encoded data removed]",
      "text/plain": [
       "<Figure size 432x288 with 3 Axes>"
      ]
     },
     "metadata": {
      "needs_background": "light"
     },
     "output_type": "display_data"
    }
   ],
   "source": [
    "num_neurons2 = conv2_out.shape[1]\n",
    "\n",
    "fig, ax = plt.subplots(ncols = num_neurons2+1 )\n",
    "ax[0].imshow(img[0,0])\n",
    "ax[0].set_title('input image')\n",
    "for itr in range(1,num_neurons2+1):\n",
    "    ax[itr].imshow(conv2_out[0,itr-1].numpy())\n",
    "    ax[itr].set_title('l2_node:{}'.format(itr-1))\n",
    "plt.show() "
   ]
  },
  {
   "cell_type": "markdown",
   "metadata": {},
   "source": [
    "This too looks exactly like the result we got for layer2 using hooks"
   ]
  },
  {
   "cell_type": "markdown",
   "metadata": {},
   "source": [
    "## Visualizing the kernels used in the convolutional layers"
   ]
  },
  {
   "cell_type": "markdown",
   "metadata": {},
   "source": [
    "To begin with let us remind ourselves what should be the shape of the weight tensor of a given convolutional layer. Let us consider the convolutional layer \n",
    "   \n",
    "    nn.Conv2d(n_input, n_out, kernel_size)\n",
    "    \n",
    "Here, \n",
    "  - n_input = number of channels in the input to the conv. layer. If the input is an RGB image then n_input will be 3 for the three color channels in the image. However, if the input comes from an earlier conv. layer consisting of n output channel then n_input will be n\n",
    "  \n",
    "  \n",
    "  - n_out = number of output channels of the conv. layer\n",
    "  \n",
    "  \n",
    "  - kernel_size = the height and the width of the kernel to be applied across the 2d array in each of                   the input channels. Both of these are equal to kernel_size in the present case\n",
    "  \n",
    "Now, since n_out is the number of output channels, thus clearly there should be n_out sets of weight parameters. Also, different kernels will be used for each input channel and their output will be subsequently added. ( This is similar to how in a dense Neural Net. if the input is a vector of length p and there are q nodes in a given layer, then the weight tensor of this layer is a 2d matrix of shape (q,p) ). Of course for each channel, we also need to consider the height and the width of the kernel. Overall, this implies the the weight tensor of a 2d conv. layer will have shape \n",
    "   \n",
    "    Shape of the weight tensor = (n_out, n_input, kernel_size, kernel_size)\n",
    "    \n",
    "    \n",
    "In other words, the kernel corresponding to any single output channel will be of shape (n_input, kernel_size, kernel_size)"
   ]
  },
  {
   "cell_type": "code",
   "execution_count": 74,
   "metadata": {},
   "outputs": [
    {
     "data": {
      "text/plain": [
       "torch.Size([2, 6, 5, 5])"
      ]
     },
     "execution_count": 74,
     "metadata": {},
     "output_type": "execute_result"
    }
   ],
   "source": [
    "# example to demonstrate that the weight tensor of a conv. layer has \n",
    "# shape as described in the above text\n",
    "random = nn.Conv2d(6, 2, 5 )\n",
    "random.weight.shape"
   ]
  },
  {
   "cell_type": "code",
   "execution_count": 75,
   "metadata": {},
   "outputs": [],
   "source": [
    "conv1Kernel = conv1.weight.detach().clone()"
   ]
  },
  {
   "cell_type": "code",
   "execution_count": 76,
   "metadata": {},
   "outputs": [
    {
     "data": {
      "text/plain": [
       "torch.Size([4, 1, 3, 3])"
      ]
     },
     "execution_count": 76,
     "metadata": {},
     "output_type": "execute_result"
    }
   ],
   "source": [
    "conv1Kernel.shape"
   ]
  },
  {
   "cell_type": "code",
   "execution_count": 77,
   "metadata": {},
   "outputs": [
    {
     "data": {
      "image/png": "[encoded data removed]",
      "text/plain": [
       "<Figure size 432x288 with 4 Axes>"
      ]
     },
     "metadata": {
      "needs_background": "light"
     },
     "output_type": "display_data"
    }
   ],
   "source": [
    "fig, ax = plt.subplots(ncols = 4)\n",
    "for idx in range(4):\n",
    "    ax[idx].imshow(conv1Kernel[idx].squeeze(0))\n",
    "    ax[idx].set_title('conv. node {}'.format(idx))"
   ]
  },
  {
   "cell_type": "code",
   "execution_count": 79,
   "metadata": {},
   "outputs": [],
   "source": [
    "from torchvision.utils import make_grid"
   ]
  },
  {
   "cell_type": "code",
   "execution_count": 83,
   "metadata": {},
   "outputs": [],
   "source": [
    "# shift the minimum to be zero\n",
    "conv1Kernel = conv1Kernel - conv1Kernel.min()\n",
    "# normalize the max to be 1\n",
    "conv1Kernel = conv1Kernel/conv1Kernel.max()"
   ]
  },
  {
   "cell_type": "code",
   "execution_count": 85,
   "metadata": {},
   "outputs": [
    {
     "data": {
      "text/plain": [
       "tensor([[[[1.0000, 0.1755, 0.0677],\n",
       "          [0.7102, 0.3887, 0.2725],\n",
       "          [0.3767, 0.6726, 0.1462]]],\n",
       "\n",
       "\n",
       "        [[[0.3448, 0.3353, 0.4020],\n",
       "          [0.3798, 0.2495, 0.7516],\n",
       "          [0.8089, 0.4364, 0.8136]]],\n",
       "\n",
       "\n",
       "        [[[0.2012, 0.0804, 0.6113],\n",
       "          [0.0946, 0.2273, 0.1430],\n",
       "          [0.5938, 0.3826, 0.0337]]],\n",
       "\n",
       "\n",
       "        [[[0.3862, 0.0000, 0.0560],\n",
       "          [0.7076, 0.2612, 0.2076],\n",
       "          [0.6084, 0.8939, 0.7575]]]])"
      ]
     },
     "execution_count": 85,
     "metadata": {},
     "output_type": "execute_result"
    }
   ],
   "source": [
    "conv1Kernel"
   ]
  },
  {
   "cell_type": "code",
   "execution_count": 86,
   "metadata": {},
   "outputs": [],
   "source": [
    "im = make_grid(conv1Kernel)"
   ]
  },
  {
   "cell_type": "code",
   "execution_count": 87,
   "metadata": {},
   "outputs": [
    {
     "data": {
      "text/plain": [
       "torch.Size([3, 7, 22])"
      ]
     },
     "execution_count": 87,
     "metadata": {},
     "output_type": "execute_result"
    }
   ],
   "source": [
    "im.shape"
   ]
  },
  {
   "cell_type": "code",
   "execution_count": 88,
   "metadata": {},
   "outputs": [
    {
     "data": {
      "image/png": "[encoded data removed]",
      "text/plain": [
       "<Figure size 432x288 with 1 Axes>"
      ]
     },
     "metadata": {
      "needs_background": "light"
     },
     "output_type": "display_data"
    }
   ],
   "source": [
    "plt.imshow(im.permute(1,2,0))\n",
    "plt.show()"
   ]
  },
  {
   "cell_type": "code",
   "execution_count": 89,
   "metadata": {},
   "outputs": [
    {
     "data": {
      "text/plain": [
       "tensor([[[0.0000, 0.0000, 0.0000, 0.0000, 0.0000, 0.0000, 0.0000, 0.0000,\n",
       "          0.0000, 0.0000, 0.0000, 0.0000, 0.0000, 0.0000, 0.0000, 0.0000,\n",
       "          0.0000, 0.0000, 0.0000, 0.0000, 0.0000, 0.0000],\n",
       "         [0.0000, 0.0000, 0.0000, 0.0000, 0.0000, 0.0000, 0.0000, 0.0000,\n",
       "          0.0000, 0.0000, 0.0000, 0.0000, 0.0000, 0.0000, 0.0000, 0.0000,\n",
       "          0.0000, 0.0000, 0.0000, 0.0000, 0.0000, 0.0000],\n",
       "         [0.0000, 0.0000, 1.0000, 0.1755, 0.0677, 0.0000, 0.0000, 0.3448,\n",
       "          0.3353, 0.4020, 0.0000, 0.0000, 0.2012, 0.0804, 0.6113, 0.0000,\n",
       "          0.0000, 0.3862, 0.0000, 0.0560, 0.0000, 0.0000],\n",
       "         [0.0000, 0.0000, 0.7102, 0.3887, 0.2725, 0.0000, 0.0000, 0.3798,\n",
       "          0.2495, 0.7516, 0.0000, 0.0000, 0.0946, 0.2273, 0.1430, 0.0000,\n",
       "          0.0000, 0.7076, 0.2612, 0.2076, 0.0000, 0.0000],\n",
       "         [0.0000, 0.0000, 0.3767, 0.6726, 0.1462, 0.0000, 0.0000, 0.8089,\n",
       "          0.4364, 0.8136, 0.0000, 0.0000, 0.5938, 0.3826, 0.0337, 0.0000,\n",
       "          0.0000, 0.6084, 0.8939, 0.7575, 0.0000, 0.0000],\n",
       "         [0.0000, 0.0000, 0.0000, 0.0000, 0.0000, 0.0000, 0.0000, 0.0000,\n",
       "          0.0000, 0.0000, 0.0000, 0.0000, 0.0000, 0.0000, 0.0000, 0.0000,\n",
       "          0.0000, 0.0000, 0.0000, 0.0000, 0.0000, 0.0000],\n",
       "         [0.0000, 0.0000, 0.0000, 0.0000, 0.0000, 0.0000, 0.0000, 0.0000,\n",
       "          0.0000, 0.0000, 0.0000, 0.0000, 0.0000, 0.0000, 0.0000, 0.0000,\n",
       "          0.0000, 0.0000, 0.0000, 0.0000, 0.0000, 0.0000]],\n",
       "\n",
       "        [[0.0000, 0.0000, 0.0000, 0.0000, 0.0000, 0.0000, 0.0000, 0.0000,\n",
       "          0.0000, 0.0000, 0.0000, 0.0000, 0.0000, 0.0000, 0.0000, 0.0000,\n",
       "          0.0000, 0.0000, 0.0000, 0.0000, 0.0000, 0.0000],\n",
       "         [0.0000, 0.0000, 0.0000, 0.0000, 0.0000, 0.0000, 0.0000, 0.0000,\n",
       "          0.0000, 0.0000, 0.0000, 0.0000, 0.0000, 0.0000, 0.0000, 0.0000,\n",
       "          0.0000, 0.0000, 0.0000, 0.0000, 0.0000, 0.0000],\n",
       "         [0.0000, 0.0000, 1.0000, 0.1755, 0.0677, 0.0000, 0.0000, 0.3448,\n",
       "          0.3353, 0.4020, 0.0000, 0.0000, 0.2012, 0.0804, 0.6113, 0.0000,\n",
       "          0.0000, 0.3862, 0.0000, 0.0560, 0.0000, 0.0000],\n",
       "         [0.0000, 0.0000, 0.7102, 0.3887, 0.2725, 0.0000, 0.0000, 0.3798,\n",
       "          0.2495, 0.7516, 0.0000, 0.0000, 0.0946, 0.2273, 0.1430, 0.0000,\n",
       "          0.0000, 0.7076, 0.2612, 0.2076, 0.0000, 0.0000],\n",
       "         [0.0000, 0.0000, 0.3767, 0.6726, 0.1462, 0.0000, 0.0000, 0.8089,\n",
       "          0.4364, 0.8136, 0.0000, 0.0000, 0.5938, 0.3826, 0.0337, 0.0000,\n",
       "          0.0000, 0.6084, 0.8939, 0.7575, 0.0000, 0.0000],\n",
       "         [0.0000, 0.0000, 0.0000, 0.0000, 0.0000, 0.0000, 0.0000, 0.0000,\n",
       "          0.0000, 0.0000, 0.0000, 0.0000, 0.0000, 0.0000, 0.0000, 0.0000,\n",
       "          0.0000, 0.0000, 0.0000, 0.0000, 0.0000, 0.0000],\n",
       "         [0.0000, 0.0000, 0.0000, 0.0000, 0.0000, 0.0000, 0.0000, 0.0000,\n",
       "          0.0000, 0.0000, 0.0000, 0.0000, 0.0000, 0.0000, 0.0000, 0.0000,\n",
       "          0.0000, 0.0000, 0.0000, 0.0000, 0.0000, 0.0000]],\n",
       "\n",
       "        [[0.0000, 0.0000, 0.0000, 0.0000, 0.0000, 0.0000, 0.0000, 0.0000,\n",
       "          0.0000, 0.0000, 0.0000, 0.0000, 0.0000, 0.0000, 0.0000, 0.0000,\n",
       "          0.0000, 0.0000, 0.0000, 0.0000, 0.0000, 0.0000],\n",
       "         [0.0000, 0.0000, 0.0000, 0.0000, 0.0000, 0.0000, 0.0000, 0.0000,\n",
       "          0.0000, 0.0000, 0.0000, 0.0000, 0.0000, 0.0000, 0.0000, 0.0000,\n",
       "          0.0000, 0.0000, 0.0000, 0.0000, 0.0000, 0.0000],\n",
       "         [0.0000, 0.0000, 1.0000, 0.1755, 0.0677, 0.0000, 0.0000, 0.3448,\n",
       "          0.3353, 0.4020, 0.0000, 0.0000, 0.2012, 0.0804, 0.6113, 0.0000,\n",
       "          0.0000, 0.3862, 0.0000, 0.0560, 0.0000, 0.0000],\n",
       "         [0.0000, 0.0000, 0.7102, 0.3887, 0.2725, 0.0000, 0.0000, 0.3798,\n",
       "          0.2495, 0.7516, 0.0000, 0.0000, 0.0946, 0.2273, 0.1430, 0.0000,\n",
       "          0.0000, 0.7076, 0.2612, 0.2076, 0.0000, 0.0000],\n",
       "         [0.0000, 0.0000, 0.3767, 0.6726, 0.1462, 0.0000, 0.0000, 0.8089,\n",
       "          0.4364, 0.8136, 0.0000, 0.0000, 0.5938, 0.3826, 0.0337, 0.0000,\n",
       "          0.0000, 0.6084, 0.8939, 0.7575, 0.0000, 0.0000],\n",
       "         [0.0000, 0.0000, 0.0000, 0.0000, 0.0000, 0.0000, 0.0000, 0.0000,\n",
       "          0.0000, 0.0000, 0.0000, 0.0000, 0.0000, 0.0000, 0.0000, 0.0000,\n",
       "          0.0000, 0.0000, 0.0000, 0.0000, 0.0000, 0.0000],\n",
       "         [0.0000, 0.0000, 0.0000, 0.0000, 0.0000, 0.0000, 0.0000, 0.0000,\n",
       "          0.0000, 0.0000, 0.0000, 0.0000, 0.0000, 0.0000, 0.0000, 0.0000,\n",
       "          0.0000, 0.0000, 0.0000, 0.0000, 0.0000, 0.0000]]])"
      ]
     },
     "execution_count": 89,
     "metadata": {},
     "output_type": "execute_result"
    }
   ],
   "source": [
    "im"
   ]
  },
  {
   "cell_type": "code",
   "execution_count": null,
   "metadata": {},
   "outputs": [],
   "source": []
  }
 ],
 "metadata": {
  "kernelspec": {
   "display_name": "Python 3",
   "language": "python",
   "name": "python3"
  },
  "language_info": {
   "codemirror_mode": {
    "name": "ipython",
    "version": 3
   },
   "file_extension": ".py",
   "mimetype": "text/x-python",
   "name": "python",
   "nbconvert_exporter": "python",
   "pygments_lexer": "ipython3",
   "version": "3.7.1"
  }
 },
 "nbformat": 4,
 "nbformat_minor": 2
}
