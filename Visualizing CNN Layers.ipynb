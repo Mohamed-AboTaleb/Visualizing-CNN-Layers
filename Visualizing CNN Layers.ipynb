{
 "cells": [
  {
   "cell_type": "code",
   "execution_count": 36,
   "metadata": {},
   "outputs": [],
   "source": [
    "import torch\n",
    "from torch import nn\n",
    "import torch.nn.functional as F\n",
    "from torchvision import datasets, transforms"
   ]
  },
  {
   "cell_type": "code",
   "execution_count": 37,
   "metadata": {},
   "outputs": [],
   "source": [
    "import matplotlib.pyplot as plt\n",
    "import numpy as np"
   ]
  },
  {
   "cell_type": "markdown",
   "metadata": {},
   "source": [
    "## Importing the MNIST dataset"
   ]
  },
  {
   "cell_type": "markdown",
   "metadata": {},
   "source": [
    "based on the following pytorch excercise by Udacity: (Lesson 5.9 of [this](https://www.udacity.com/course/deep-learning-pytorch--ud188) course)\n",
    "\n",
    "    Part 3 - Training Neural Networks (Exercises)\n"
   ]
  },
  {
   "cell_type": "code",
   "execution_count": 38,
   "metadata": {},
   "outputs": [],
   "source": [
    "# define a transform \n",
    "# for this we need to convert the input to torch-tensors using transforms.ToTensor()\n",
    "# we will be working with MNIST dataset which are gray scale images\n",
    "# V.Imp: Since the MNIST images have a  single channel, therefore one might be tempted to \n",
    "# call transforms.Normalize((0.5), (0.5)) instead of transforms.Normalize((0.5,), (0.5,))\n",
    "# The difference is the presence of a comma after 0.5 in the second call\n",
    "# then this will throw an error \"too many indices for tensor of dimension 0\"\n",
    "# this is because transforms.Normalize wants a tuple to be passed as its mean and standard\n",
    "# however torch interprets (0.5) as a number and NOT a tuple. So we need to pass (0.5, )\n",
    "# This is well explained by Berriel in the following stackoverflow post\n",
    "# https://stackoverflow.com/questions/56745486/pytorch-dataloader-indexerror-too-many-indices-for-tensor-of-dimension-0\n",
    "\n",
    "transform = transforms.Compose([transforms.ToTensor(), \n",
    "                                transforms.Normalize((0.5, ), (0.5, ))]) \n",
    "\n",
    "# import the MNIST dataset\n",
    "train = datasets.MNIST('~/.pytorch/MNIST_data/', download = True, train = True, transform = transform)\n",
    "# Dataloader\n",
    "trainloader = torch.utils.data.DataLoader(train, batch_size = 128, shuffle = True)"
   ]
  },
  {
   "cell_type": "code",
   "execution_count": 39,
   "metadata": {},
   "outputs": [
    {
     "name": "stdout",
     "output_type": "stream",
     "text": [
      "Each image has shape: (28, 28)\n"
     ]
    },
    {
     "data": {
      "image/png": "[encoded data removed]",
      "text/plain": [
       "<Figure size 432x288 with 1 Axes>"
      ]
     },
     "metadata": {
      "needs_background": "light"
     },
     "output_type": "display_data"
    }
   ],
   "source": [
    "# checkout a random image in the training set\n",
    "image, label = next(iter(trainloader))\n",
    "img=torch.squeeze(image[0],0).numpy()\n",
    "print('Each image has shape: {}'.format(img.shape))\n",
    "plt.figure()\n",
    "plt.imshow(img)\n",
    "plt.title(\"The number is {}\".format(label[0]))\n",
    "plt.show()"
   ]
  },
  {
   "cell_type": "markdown",
   "metadata": {},
   "source": [
    "## Defining a simple CNN "
   ]
  },
  {
   "cell_type": "code",
   "execution_count": 43,
   "metadata": {},
   "outputs": [],
   "source": [
    "# model architechture:\n",
    "# 1st Conv. layer with 4 filters; Each having a kernel of size 3, stride = 1, and default padding and dilation\n",
    "# this will reduce the shape of the input tensor from (1,28,28) to (4,26,26)\n",
    "# then apply Relu activation\n",
    "# 2nd Conv. layer with 2 filters, each having a kernel size 5, stride = 1, default padding and dilation\n",
    "# the output of this layer will have shape (2, 22, 22)\n",
    "# again apply ReLU to this output\n",
    "# Now flatten the output to pass to a linear NN for classification\n",
    "# The output of this layer will be a 1d array of 2*22*22 = 968 elements\n",
    "# We now add a linear layer of 32 nuerons\n",
    "\n",
    "# the model has to be a class that inherits from nn.Module\n",
    "# note that we can define relu once and use it repeatedly. Also see the following discussion\n",
    "# https://discuss.pytorch.org/t/using-same-dropout-object-for-multiple-drop-out-layers/39027\n",
    "class my_CNN(nn.Module):\n",
    "    # class constructor (i.e. initializer)\n",
    "    def __init__(self):\n",
    "        # initialize the base class\n",
    "        super().__init__()\n",
    "        \n",
    "        self.l1 = nn.Conv2d(1, 4, 3 )\n",
    "        \n",
    "        self.relu = nn.ReLU()\n",
    "        \n",
    "        self.l2 = nn.Conv2d(4, 2, 5 )\n",
    "        \n",
    "        self.flatten = nn.Flatten()\n",
    "        \n",
    "        self.l3 = nn.Linear(968, 32, bias = True)\n",
    "        \n",
    "        self.l4 = nn.Linear(32, 10, bias = True)\n",
    "        \n",
    "        self.logsoftmax = nn.LogSoftmax(dim=1) # we need to apply LogSoftmax if the loss function is NLLLoss\n",
    "        \n",
    "    def forward(self, x):\n",
    "        out1 = self.l1(x)\n",
    "        act1 = self.relu(out1)\n",
    "        out2 = self.l2(act1)\n",
    "        act2 = self.relu(out2)\n",
    "        flat = self.flatten(act2)\n",
    "        out3 = self.l3(flat)\n",
    "        act3 = self.relu(out3)\n",
    "        out4 = self.l4(act3)\n",
    "        \n",
    "        output = self.logsoftmax(out4)\n",
    "        \n",
    "        return output\n",
    "        \n",
    "        \n",
    "        \n",
    "        "
   ]
  },
  {
   "cell_type": "code",
   "execution_count": 44,
   "metadata": {},
   "outputs": [
    {
     "data": {
      "text/plain": [
       "my_CNN(\n",
       "  (l1): Conv2d(1, 4, kernel_size=(3, 3), stride=(1, 1))\n",
       "  (relu): ReLU()\n",
       "  (l2): Conv2d(4, 2, kernel_size=(5, 5), stride=(1, 1))\n",
       "  (flatten): Flatten()\n",
       "  (l3): Linear(in_features=968, out_features=32, bias=True)\n",
       "  (l4): Linear(in_features=32, out_features=10, bias=True)\n",
       "  (logsoftmax): LogSoftmax()\n",
       ")"
      ]
     },
     "execution_count": 44,
     "metadata": {},
     "output_type": "execute_result"
    }
   ],
   "source": [
    "model = my_CNN()\n",
    "model"
   ]
  },
  {
   "cell_type": "code",
   "execution_count": 45,
   "metadata": {},
   "outputs": [],
   "source": [
    "out = model(image)"
   ]
  },
  {
   "cell_type": "code",
   "execution_count": 46,
   "metadata": {},
   "outputs": [
    {
     "data": {
      "text/plain": [
       "torch.Size([128, 10])"
      ]
     },
     "execution_count": 46,
     "metadata": {},
     "output_type": "execute_result"
    }
   ],
   "source": [
    "out.shape"
   ]
  },
  {
   "cell_type": "code",
   "execution_count": 47,
   "metadata": {},
   "outputs": [],
   "source": [
    "# defining loss and optimizer\n",
    "criterion = nn.NLLLoss()\n",
    "optimizer = torch.optim.Adam(model.parameters(), lr = 0.001)"
   ]
  },
  {
   "cell_type": "markdown",
   "metadata": {},
   "source": [
    "## Untrained Predictions"
   ]
  },
  {
   "cell_type": "code",
   "execution_count": 48,
   "metadata": {},
   "outputs": [
    {
     "name": "stdout",
     "output_type": "stream",
     "text": [
      "loss on untrained model is: 2.3096299171447754\n"
     ]
    },
    {
     "data": {
      "image/png": "[encoded data removed]",
      "text/plain": [
       "<Figure size 432x432 with 2 Axes>"
      ]
     },
     "metadata": {
      "needs_background": "light"
     },
     "output_type": "display_data"
    }
   ],
   "source": [
    "images, labels = next(iter(trainloader))\n",
    "\n",
    "with torch.no_grad():\n",
    "    pred_untrained = model(images) # recall that these are obtained from LogSoftmax()\n",
    "    loss_untrained = criterion(pred_untrained, labels)\n",
    "    print('loss on untrained model is: {}'.format(loss_untrained))\n",
    "\n",
    "    \n",
    "# display the untrained predicitons for a random image\n",
    "randidx = np.random.randint(0, images.shape[0])\n",
    "img = images[randidx].squeeze(0).numpy()\n",
    "pred_prob = torch.exp(pred_untrained[randidx]) # pred_untrained is the log of the probability \n",
    "                                              # this is due to the last layer of the model being LogSoftmax\n",
    "                                            \n",
    "# See the following post for some discussion on making subplots\n",
    "# https://stackoverflow.com/questions/14770735/how-do-i-change-the-figure-size-with-subplots\n",
    "fig, (ax1, ax2) = plt.subplots(ncols = 2) \n",
    "ax1.imshow(img)\n",
    "ax1.set_title('label: {}'.format(labels[randidx]))\n",
    "ax2.barh(np.arange(10), pred_prob)\n",
    "ax2.set_title('predicted probabilities')\n",
    "plt.show()"
   ]
  },
  {
   "cell_type": "markdown",
   "metadata": {},
   "source": [
    "## Training the model"
   ]
  },
  {
   "cell_type": "code",
   "execution_count": 49,
   "metadata": {},
   "outputs": [
    {
     "name": "stdout",
     "output_type": "stream",
     "text": [
      "average loss per batch at the end of epoch: 0 is 0.5092818516213248\n"
     ]
    }
   ],
   "source": [
    "# training\n",
    "epochs = 1\n",
    "losses = []\n",
    "for epoch in range(epochs):\n",
    "    running_loss = 0\n",
    "    \n",
    "    for images, labels in trainloader:\n",
    "        optimizer.zero_grad()\n",
    "        predprob = model(images)\n",
    "        loss = criterion(predprob, labels)\n",
    "        loss.backward()\n",
    "        optimizer.step()\n",
    "        running_loss += loss.item() \n",
    "    \n",
    "    losses.append(running_loss/len(trainloader)) # this is the average loss per batch\n",
    "    print('average loss per batch at the end of epoch: {} is {}'.format(epoch, losses[-1]))              \n",
    "    "
   ]
  },
  {
   "cell_type": "code",
   "execution_count": 50,
   "metadata": {},
   "outputs": [
    {
     "name": "stdout",
     "output_type": "stream",
     "text": [
      "model prediction: 9\n",
      "image label: 3\n"
     ]
    },
    {
     "data": {
      "image/png": "[encoded data removed]",
      "text/plain": [
       "<Figure size 432x288 with 1 Axes>"
      ]
     },
     "metadata": {
      "needs_background": "light"
     },
     "output_type": "display_data"
    }
   ],
   "source": [
    "# verify model predictions\n",
    "images, labels = next(iter(trainloader))\n",
    "with torch.no_grad():\n",
    "    preds = model(images)\n",
    "\n",
    "    img = torch.squeeze(images[0]).numpy()\n",
    "    prd = torch.argmax(preds[0]).item()\n",
    "    lbl = labels[0].item()\n",
    "    print('model prediction: {}'.format(prd))\n",
    "    print('image label: {}'.format(lbl))\n",
    "    plt.figure()\n",
    "    plt.imshow(img)\n",
    "    plt.show()"
   ]
  },
  {
   "cell_type": "markdown",
   "metadata": {},
   "source": [
    "# Forward Hook to visual the layer outputs"
   ]
  },
  {
   "cell_type": "code",
   "execution_count": 54,
   "metadata": {},
   "outputs": [
    {
     "name": "stdout",
     "output_type": "stream",
     "text": [
      "torch.Size([128, 1, 28, 28])\n"
     ]
    }
   ],
   "source": [
    "# visualizing CNN features\n",
    "# see https://discuss.pytorch.org/t/visualize-feature-map/29597/2\n",
    "# and https://blog.paperspace.com/pytorch-hooks-gradient-clipping-debugging/\n",
    "activation = {}\n",
    "def get_activation(name):\n",
    "    def hook(m, i , o):\n",
    "        activation[name] = o.detach()\n",
    "    \n",
    "    return hook\n",
    "\n",
    "\n",
    "model.l1.register_forward_hook(get_activation('l1'))\n",
    "model.l2.register_forward_hook(get_activation('l2'))\n",
    "img, label = next(iter(trainloader))\n",
    "#img.unsqueeze_(0) # input to the model is a 4d tensor with the zeroth axis being the batch index\n",
    "                  # we therefore need to unsqueeze to reshape our image into a 4d tensor\n",
    "print(img.shape)\n",
    "output = model(img)"
   ]
  },
  {
   "cell_type": "markdown",
   "metadata": {},
   "source": [
    "### output of layer 1"
   ]
  },
  {
   "cell_type": "code",
   "execution_count": 55,
   "metadata": {},
   "outputs": [
    {
     "data": {
      "text/plain": [
       "torch.Size([128, 4, 26, 26])"
      ]
     },
     "execution_count": 55,
     "metadata": {},
     "output_type": "execute_result"
    }
   ],
   "source": [
    "activation['l1'].shape #This seems to have the shape: batch_size, num_neurons, output_height, output_width"
   ]
  },
  {
   "cell_type": "code",
   "execution_count": 61,
   "metadata": {},
   "outputs": [
    {
     "data": {
      "image/png": "[encoded data removed]",
      "text/plain": [
       "<Figure size 720x720 with 5 Axes>"
      ]
     },
     "metadata": {
      "needs_background": "light"
     },
     "output_type": "display_data"
    }
   ],
   "source": [
    "num_neurons1 = activation['l1'].shape[1]\n",
    "\n",
    "fig, ax = plt.subplots(ncols = num_neurons1+1 )\n",
    "ax[0].imshow(img[0,0])\n",
    "ax[0].set_title('input image')\n",
    "for itr in range(1,num_neurons1+1):\n",
    "    ax[itr].imshow(activation['l1'][0,itr-1].numpy())\n",
    "    ax[itr].set_title('l1_node:{}'.format(itr-1))\n",
    "plt.show()    \n",
    "    \n"
   ]
  },
  {
   "cell_type": "markdown",
   "metadata": {},
   "source": [
    "### output of layer 2"
   ]
  },
  {
   "cell_type": "code",
   "execution_count": 62,
   "metadata": {},
   "outputs": [
    {
     "data": {
      "text/plain": [
       "torch.Size([128, 2, 22, 22])"
      ]
     },
     "execution_count": 62,
     "metadata": {},
     "output_type": "execute_result"
    }
   ],
   "source": [
    "activation['l2'].shape"
   ]
  },
  {
   "cell_type": "code",
   "execution_count": 66,
   "metadata": {},
   "outputs": [
    {
     "data": {
      "image/png": "[encoded data removed]",
      "text/plain": [
       "<Figure size 432x288 with 3 Axes>"
      ]
     },
     "metadata": {
      "needs_background": "light"
     },
     "output_type": "display_data"
    }
   ],
   "source": [
    "num_neurons2 = activation['l2'].shape[1]\n",
    "\n",
    "fig, axes = plt.subplots(ncols = num_neurons2+1)\n",
    "axes[0].imshow(img[0,0])\n",
    "axes[0].set_title('input image')\n",
    "for itr in range(1, num_neurons2+1):\n",
    "    axes[itr].imshow(activation['l2'][0,itr-1].numpy())\n",
    "    axes[itr].set_title('l2_node: {}'.format(itr-1))\n",
    "plt.show()    "
   ]
  }
 ],
 "metadata": {
  "kernelspec": {
   "display_name": "Python 3",
   "language": "python",
   "name": "python3"
  },
  "language_info": {
   "codemirror_mode": {
    "name": "ipython",
    "version": 3
   },
   "file_extension": ".py",
   "mimetype": "text/x-python",
   "name": "python",
   "nbconvert_exporter": "python",
   "pygments_lexer": "ipython3",
   "version": "3.7.1"
  }
 },
 "nbformat": 4,
 "nbformat_minor": 2
}
